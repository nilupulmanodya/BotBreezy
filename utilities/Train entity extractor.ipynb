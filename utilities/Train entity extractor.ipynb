{
 "cells": [
  {
   "cell_type": "code",
   "execution_count": 17,
   "metadata": {},
   "outputs": [],
   "source": [
    "import re\n",
    "  \n",
    "# initializing string\n",
    "test_list = ['Tell me about faculty of engineering',\n",
    "             'tell me about faculty of engineering',\n",
    "             'tell me more about faculty of computing',\n",
    "             'can you please explain about faculty of computing',\n",
    "             'please tell me about faculty of computing']\n",
    "\n",
    "entities = ['computing','engineering']\n"
   ]
  },
  {
   "cell_type": "code",
   "execution_count": 15,
   "metadata": {},
   "outputs": [
    {
     "name": "stdout",
     "output_type": "stream",
     "text": [
      "tell me about faculty of engineering\n",
      "tell me about faculty of engineering\n",
      "tell me more about faculty of computing\n",
      "can you please explain about faculty of computing\n",
      "please tell me about faculty of computing\n"
     ]
    }
   ],
   "source": [
    "for sent in test_list:\n",
    "    sent = sent.lower()\n",
    "    print(sent)"
   ]
  },
  {
   "cell_type": "code",
   "execution_count": 29,
   "metadata": {},
   "outputs": [
    {
     "name": "stdout",
     "output_type": "stream",
     "text": [
      "No match\n"
     ]
    }
   ],
   "source": [
    "#Check if the string starts with \"The\" and ends with \"Spain\":\n",
    "\n",
    "txt = \"The rain in Spain computing engineering g\"\n",
    "x = re.search(\"^\"+entities[1]+\"$\", txt)\n",
    "\n",
    "if x:\n",
    "  print(\"YES! We have a match!\")\n",
    "else:\n",
    "  print(\"No match\")\n"
   ]
  },
  {
   "cell_type": "code",
   "execution_count": null,
   "metadata": {},
   "outputs": [],
   "source": [
    "'tell me about faculty of engineering','tell me about faculty of engineering','tell me more about faculty of computing','can you please explain about faculty of computing','please tell me about faculty of computing'"
   ]
  }
 ],
 "metadata": {
  "kernelspec": {
   "display_name": "Python 3",
   "language": "python",
   "name": "python3"
  },
  "language_info": {
   "codemirror_mode": {
    "name": "ipython",
    "version": 3
   },
   "file_extension": ".py",
   "mimetype": "text/x-python",
   "name": "python",
   "nbconvert_exporter": "python",
   "pygments_lexer": "ipython3",
   "version": "3.8.5"
  }
 },
 "nbformat": 4,
 "nbformat_minor": 4
}
