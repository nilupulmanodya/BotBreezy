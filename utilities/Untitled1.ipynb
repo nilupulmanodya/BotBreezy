{
 "cells": [
  {
   "cell_type": "code",
   "execution_count": 1,
   "metadata": {},
   "outputs": [],
   "source": [
    "import pickle"
   ]
  },
  {
   "cell_type": "code",
   "execution_count": 2,
   "metadata": {},
   "outputs": [],
   "source": [
    "vectorizer_path = 'vectorizer.pickle'\n",
    "vectorizer = pickle.load(\n",
    "    open(vectorizer_path, 'rb'))\n",
    "\n",
    "gb_path = 'gb.pickle'\n",
    "gboost_m = pickle.load(\n",
    "    open(gb_path, 'rb'))\n",
    "\n",
    "transformer_path = 'transformer.pickle'\n",
    "transformer = pickle.load(\n",
    "    open(transformer_path, 'rb'))\n"
   ]
  },
  {
   "cell_type": "code",
   "execution_count": 3,
   "metadata": {},
   "outputs": [],
   "source": [
    "import nltk\n",
    "from nltk.corpus import stopwords\n",
    "from nltk.corpus import wordnet\n",
    "from nltk.stem import WordNetLemmatizer\n",
    "lemmatizer = WordNetLemmatizer() \n",
    "from gensim.models import Word2Vec\n",
    "import re"
   ]
  },
  {
   "cell_type": "code",
   "execution_count": 4,
   "metadata": {},
   "outputs": [],
   "source": [
    "import string\n",
    "\n",
    "def data_cleaning(data):\n",
    "    cleaned_data = []\n",
    "    fillerWord = (\"so\",\"yeah\",\"okay\",\"um\",\"uh\",\"mmm\",\"ahan\",\"uh\",\"huh\",\"ahm\",\"oh\",\"sooo\",\"uh\",\"huh\",\"yeh\",\"yah\",\"hmm\",\"bye\")\n",
    "    fillerword_reg= \"bye[.,]|so[.,]|yeah[.,]|okay[.,]|um[.,]|uh[.,]|mmm[.,]|ahan[.,]|uh[.,]|huh[.,]|ahm[.,]|oh[.,]|sooo[.,]|uh[.,]|huh[.,]|yeh[.,]|yah[.,]|hmm[.,]\"\n",
    "    STOPWORDS = set(stopwords.words('english'))\n",
    "    remove=[\"doesn't\",\"not\",\"nor\",\"neither\",\"isn't\",\"hadn't\",\"mightn't\",\"needn't\",\"wasn't\"]\n",
    "    for i in remove:\n",
    "        STOPWORDS.discard(i)\n",
    "    \n",
    "    STOPWORDS.add(fillerWord)  \n",
    "    for i in range(len(data)):\n",
    "        intent = re.sub(\"#\", \"\", data[i])#extracting hashtags\n",
    "        intent = re.sub(r'^https?:\\/\\/.*[\\r\\n]*', '',intent, flags=re.MULTILINE)#extracting links\n",
    "        html=re.compile(r'<.*?>')#extracting html tags\n",
    "        intent =html.sub(r\"\", intent)\n",
    "        #extracting symbols and characters\n",
    "        intent=re.sub(r'@\\w+',\"\",intent)\n",
    "        intent=re.sub(r'#\\w+',\"\",intent) \n",
    "        intent=re.sub(r'\\w+:\\/{2}[\\d\\w-]+(\\.[\\d\\w-]+)*(?:(?:\\/[^\\s/]*))*', '', intent) \n",
    "        punctuation = r\"\"\"!\"#$%&'()*+,-./:;<=>?@[\\]^_`{|}~\"\"\"\n",
    "        intent.rstrip(string.punctuation)\n",
    "        intent=re.sub('[^A-Za-z\\s]+',\"\", intent)\n",
    "        intent = intent.lower()\n",
    "        intent = intent.split()\n",
    "        #Lemmatization to normalise text\n",
    "        intent = [lemmatizer.lemmatize(word) for word in intent if not word in STOPWORDS]\n",
    "        intent = ' '.join(intent)\n",
    "        filler=re.compile(fillerword_reg)\n",
    "        intent=filler.sub(\"\",intent)\n",
    "        cleaned_data.append(intent)\n",
    "    return cleaned_data"
   ]
  },
  {
   "cell_type": "code",
   "execution_count": 5,
   "metadata": {},
   "outputs": [],
   "source": [
    "def intent_classification(intent):\n",
    "    \n",
    "    ####Preprocessing and cleaning train data\n",
    "    process_text=data_cleaning(intent)       \n",
    "    intent_vector = vectorizer.transform([process_text[0]])\n",
    "    \n",
    "    \n",
    "    #print(intent_vector)\n",
    "    intent_vector_data = transformer.transform(intent_vector).toarray()\n",
    "    predicted_class = gboost_m.predict(intent_vector_data)[0]\n",
    "    d={\"12\" :\"uniinfo\",\n",
    "    \"1\" :\"courseinfo\",\n",
    "    \"4\" :\"facultyinfo\",\n",
    "    \"11\":\"staffinfo\",\n",
    "    \"7\":\"hostelinfo\",\n",
    "    \"8\":\"placesinfo\",\n",
    "    \"0\" :\"careerinfo \",\n",
    "    \"3\" :\"eventinfo\" ,\n",
    "    \"10\":\"sportinfo\",\n",
    "    \"2\":\"entryinfo\",\n",
    "    \"9\":\"regevent\",\n",
    "    \"5\":\"fillhostelapplication\",\n",
    "    \"6\":\"greeting\"}\n",
    "    return d[str(predicted_class)]\n",
    "    "
   ]
  },
  {
   "cell_type": "code",
   "execution_count": 25,
   "metadata": {},
   "outputs": [
    {
     "name": "stdout",
     "output_type": "stream",
     "text": [
      "staffinfo\n"
     ]
    }
   ],
   "source": [
    "print(intent_classification(['say tell me entry ']))"
   ]
  },
  {
   "cell_type": "code",
   "execution_count": null,
   "metadata": {},
   "outputs": [],
   "source": []
  }
 ],
 "metadata": {
  "kernelspec": {
   "display_name": "Python 3",
   "language": "python",
   "name": "python3"
  },
  "language_info": {
   "codemirror_mode": {
    "name": "ipython",
    "version": 3
   },
   "file_extension": ".py",
   "mimetype": "text/x-python",
   "name": "python",
   "nbconvert_exporter": "python",
   "pygments_lexer": "ipython3",
   "version": "3.8.5"
  }
 },
 "nbformat": 4,
 "nbformat_minor": 4
}
