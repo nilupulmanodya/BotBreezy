{
 "cells": [
  {
   "cell_type": "code",
   "execution_count": 12,
   "metadata": {},
   "outputs": [
    {
     "data": {
      "text/plain": [
       "'\\nClasses: \\n    uni_info : {\\n        entities: no,\\n    },\\n        \\n    course_info:{\\n        entities : {\\n            entity_1 :bio medical engineering,\\n            entity_2 : Computer Science\\n            }\\n    },\\n        \\n    faculty_info: {\\n        entities: {\\n            entity_1 : engineering\\n            entity_2 : computing\\n        }\\n    }, \\n    staff_info : {\\n        entities: no\\n    },\\n    \\n    hostel_info : {\\n        entities: no,\\n    \\n    places_info : {\\n        entities: {\\n            entity_1 : auditorium\\n            entity_2 : Lec1\\n            entity_2 : Lec2\\n            entity_2 : Ground\\n        }\\n    },\\n    \\n    career_info : {\\n        entities: {\\n            entity_1 : bio medical engineering\\n            entity_2 :computer science\\n        }\\n    },\\n    \\n   event_info :{\\n        entities: {\\n            entity_1 : robotics day\\n            entity_2 : invention exhibition\\n        }\\n    },\\n    \\n    sport_info : {\\n        entities: {\\n            entity_1 : cricket\\n            entity_2 : karathe\\n        }\\n    },\\n    \\n    entry_info : {\\n        entities: {\\n            entity_1 : computer science\\n            entity_2 : bio medical engineering\\n        }\\n    },\\n    \\n    reg_event : {\\n        entities: {\\n            entity_1 : invention exhibition\\n            entity_2 : robotics day\\n        }\\n    },\\n    \\n    fill_hos_appl : {\\n        entities: no\\n    }\\n'"
      ]
     },
     "execution_count": 12,
     "metadata": {},
     "output_type": "execute_result"
    }
   ],
   "source": [
    "    '''\n",
    "    Classes: \n",
    "        uni_info : {\n",
    "            entities: no,\n",
    "        },\n",
    "            \n",
    "        course_info:{\n",
    "            entities : {\n",
    "                entity_1 :bio medical engineering,\n",
    "                entity_2 : Computer Science\n",
    "                }\n",
    "        },\n",
    "            \n",
    "        faculty_info: {\n",
    "            entities: {\n",
    "                entity_1 : engineering\n",
    "                entity_2 : computing\n",
    "            }\n",
    "        }, \n",
    "        staff_info : {\n",
    "            entities: no\n",
    "        },\n",
    "        \n",
    "        hostel_info : {\n",
    "            entities: no,\n",
    "        \n",
    "        places_info : {\n",
    "            entities: {\n",
    "                entity_1 : auditorium\n",
    "                entity_2 : Lec1\n",
    "                entity_2 : Lec2\n",
    "                entity_2 : Ground\n",
    "            }\n",
    "        },\n",
    "        \n",
    "        career_info : {\n",
    "            entities: {\n",
    "                entity_1 : bio medical engineering\n",
    "                entity_2 :computer science\n",
    "            }\n",
    "        },\n",
    "        \n",
    "       event_info :{\n",
    "            entities: {\n",
    "                entity_1 : robotics day\n",
    "                entity_2 : invention exhibition\n",
    "            }\n",
    "        },\n",
    "        \n",
    "        sport_info : {\n",
    "            entities: {\n",
    "                entity_1 : cricket\n",
    "                entity_2 : karathe\n",
    "            }\n",
    "        },\n",
    "        \n",
    "        entry_info : {\n",
    "            entities: {\n",
    "                entity_1 : computer science\n",
    "                entity_2 : bio medical engineering\n",
    "            }\n",
    "        },\n",
    "        \n",
    "        reg_event : {\n",
    "            entities: {\n",
    "                entity_1 : invention exhibition\n",
    "                entity_2 : robotics day\n",
    "            }\n",
    "        },\n",
    "        \n",
    "        fill_hos_appl : {\n",
    "            entities: no\n",
    "        }\n",
    "    '''"
   ]
  },
  {
   "cell_type": "code",
   "execution_count": 13,
   "metadata": {},
   "outputs": [],
   "source": [
    "def Intent_clasification(utterance='How to go to university'):\n",
    "    \n",
    "\n",
    "    results = {\n",
    "        'text':utterance,\n",
    "        'values':{\n",
    "            'value_1':{\n",
    "                'class':'places_info',\n",
    "                'value':0.7890\n",
    "            },\n",
    "            'value_2':{\n",
    "                'class':'career_info',\n",
    "                'value':0.6804\n",
    "            },\n",
    "            'value_3':{\n",
    "                'class':'event_info',\n",
    "                'value':0.1255\n",
    "            },\n",
    "        }\n",
    "    }\n",
    "    return results"
   ]
  },
  {
   "cell_type": "code",
   "execution_count": 14,
   "metadata": {},
   "outputs": [
    {
     "name": "stdout",
     "output_type": "stream",
     "text": [
      "{'text': 'How to go to university', 'values': {'value_1': {'class': 'places_info', 'value': 0.789}, 'value_2': {'class': 'career_info', 'value': 0.6804}, 'value_3': {'class': 'event_info', 'value': 0.1255}}}\n"
     ]
    }
   ],
   "source": [
    "aa =Intent_clasification()\n",
    "print(aa)"
   ]
  },
  {
   "cell_type": "code",
   "execution_count": 15,
   "metadata": {},
   "outputs": [],
   "source": [
    "def places_info(utterance=''):\n",
    "    if utterance == '':\n",
    "        #if utterance is empty string\n",
    "        print('utterance is empty')\n",
    "    else:\n",
    "        \n",
    "        print('places info')"
   ]
  },
  {
   "cell_type": "code",
   "execution_count": 16,
   "metadata": {},
   "outputs": [],
   "source": [
    "def uni_info():\n",
    "    #db query for uni info\n",
    "    mycursor = mydb.cursor()\n",
    "    mycursor.execute(\"SELECT * FROM uni_info_des\") \n",
    "    myresult = mycursor.fetchall()\n",
    "    return myresult[0][1]"
   ]
  },
  {
   "cell_type": "code",
   "execution_count": 17,
   "metadata": {},
   "outputs": [
    {
     "data": {
      "text/plain": [
       "'DEMO university is an institution of higher education and research which awards academic degrees in several academic disciplines. We typically offer both undergraduate programs in different faculties of learning. Sports facilities and high quality laborataries offer chance to students to achieve their targets easily.'"
      ]
     },
     "execution_count": 17,
     "metadata": {},
     "output_type": "execute_result"
    }
   ],
   "source": [
    "uni_info()"
   ]
  },
  {
   "cell_type": "code",
   "execution_count": 18,
   "metadata": {},
   "outputs": [],
   "source": [
    "def course_info(utterance=''):\n",
    "    if utterance == '':\n",
    "        #if utterance is empty string\n",
    "        print('utterance is empty')\n",
    "        return 'ask another utterance'\n",
    "    else:\n",
    "        #function consists one entity\n",
    "            #ent_PLA        \n",
    "        ent_COU=str()\n",
    "        ent_COU_ls=[]\n",
    "        entities = Entity_extractor(utterance)\n",
    "        \n",
    "        if len(entities)>0:\n",
    "            for i in range(0, len(entities)):\n",
    "\n",
    "                #entities needs to course_info (bio medical engineering,computer science)\n",
    "                if entities[i]['ent_data'][2]=='COU':\n",
    "                    ent_COU = entities[i]['ent_data'][0]\n",
    "                    ent_COU_ls.append(entities[i])\n",
    "                    #print(ent_COU_ls)\n",
    "                    #pint('COU entity detected')\n",
    "            if len(ent_COU_ls)==1:\n",
    "                if ent_COU == 'cbme':\n",
    "                    #db query for course info (cbme)..\n",
    "                    mycursor = mydb.cursor()\n",
    "                    mycursor.execute(\"SELECT * FROM course_info WHERE course_name ='bme'\")\n",
    "                    myresult = mycursor.fetchall()\n",
    "                    return myresult[0][1]\n",
    "\n",
    "                elif ent_COU == 'ccs':\n",
    "                    #db query for course info (ccs)..\n",
    "                    mycursor = mydb.cursor()\n",
    "                    mycursor.execute(\"SELECT * FROM course_info WHERE course_name ='cs'\")\n",
    "                    myresult = mycursor.fetchall()\n",
    "\n",
    "                    return myresult[0][1]\n",
    "            else:\n",
    "                #two options\n",
    "                return 'options to choose'\n",
    "                \n",
    "                \n",
    "        if (ent_COU==''):\n",
    "            #no intents found\n",
    "            #two options to choose bme,cs\n",
    "            #need develop\n",
    "            return 'options to choose'\n",
    "        "
   ]
  },
  {
   "cell_type": "code",
   "execution_count": 19,
   "metadata": {},
   "outputs": [
    {
     "data": {
      "text/plain": [
       "'Biomedical engineering program comprises study about tissue engineering, molecular or systems level biology/ physiology and mathematics.'"
      ]
     },
     "execution_count": 19,
     "metadata": {},
     "output_type": "execute_result"
    }
   ],
   "source": [
    "course_info('tell me about bio medical engineering')"
   ]
  },
  {
   "cell_type": "code",
   "execution_count": 20,
   "metadata": {},
   "outputs": [],
   "source": [
    "def faculty_info(utterance=''):\n",
    "    if utterance == '':\n",
    "        #if utterance is empty string\n",
    "        print('utterance is empty')\n",
    "        return 'ask another utterance'\n",
    "    else:\n",
    "        #function consists one entity\n",
    "            #ent_PLA        \n",
    "        ent_FAC=str()\n",
    "        ent_FAC_ls=[]\n",
    "        entities = Entity_extractor(utterance)\n",
    "        \n",
    "        if len(entities)>0:\n",
    "            for i in range(0, len(entities)):\n",
    "\n",
    "                #entities needs to faculty_info (foe,foc)\n",
    "                if entities[i]['ent_data'][2]=='FAC':\n",
    "                    ent_FAC = entities[i]['ent_data'][0]\n",
    "                    ent_FAC_ls.append(entities[i])\n",
    "                    #print(ent_FAC_ls)\n",
    "                    #pint('FAC entity detected')\n",
    "            if len(ent_FAC_ls)==1:\n",
    "                if ent_FAC == 'foe':\n",
    "                    #db query for course info (foe)..\n",
    "                    mycursor = mydb.cursor()\n",
    "                    mycursor.execute(\"SELECT * FROM faculty_info WHERE fac_lbl_name='foe'\")\n",
    "                    myresult = mycursor.fetchall()\n",
    "                    return myresult[0][1]\n",
    "\n",
    "                elif ent_FAC == 'foc':\n",
    "                    #db query for course info (foc)..\n",
    "                    mycursor = mydb.cursor()\n",
    "                    mycursor.execute(\"SELECT * FROM faculty_info WHERE fac_lbl_name='foc'\")\n",
    "                    myresult = mycursor.fetchall()\n",
    "\n",
    "                    return myresult[0][1]\n",
    "            else:\n",
    "                #two options\n",
    "                return 'options to choose'\n",
    "                \n",
    "                \n",
    "        if (ent_FAC==''):\n",
    "            #no intents found\n",
    "            #two options to choose bme,cs\n",
    "            #need develop\n",
    "            return 'options to choose'\n",
    "        "
   ]
  },
  {
   "cell_type": "code",
   "execution_count": 21,
   "metadata": {},
   "outputs": [
    {
     "data": {
      "text/plain": [
       "'options to choose'"
      ]
     },
     "execution_count": 21,
     "metadata": {},
     "output_type": "execute_result"
    }
   ],
   "source": [
    "faculty_info('asdasfa')"
   ]
  },
  {
   "cell_type": "code",
   "execution_count": 22,
   "metadata": {},
   "outputs": [],
   "source": [
    "def staff_info():\n",
    "    #db query for staff info\n",
    "    mycursor = mydb.cursor()\n",
    "    mycursor.execute(\"SELECT * FROM staff_info\") \n",
    "    myresult = mycursor.fetchall()\n",
    "    return myresult[0][1]"
   ]
  },
  {
   "cell_type": "code",
   "execution_count": 23,
   "metadata": {},
   "outputs": [
    {
     "data": {
      "text/plain": [
       "'Vice chancellor of the Demo university holds by Prof. S.Devendra, Dean of Faculty of Engineering is Dr. S.Galappaththi, Dean of Faculty of Computing Dr.S. Abeysekara and Student Counseller is Mr. S. Sumanapala. Other academic staffs and their details you can find on web pages ofeach faculties.'"
      ]
     },
     "execution_count": 23,
     "metadata": {},
     "output_type": "execute_result"
    }
   ],
   "source": [
    "staff_info()"
   ]
  },
  {
   "cell_type": "code",
   "execution_count": 24,
   "metadata": {},
   "outputs": [],
   "source": [
    "def hostel_info():\n",
    "    #db query for hostel info\n",
    "    mycursor = mydb.cursor()\n",
    "    mycursor.execute(\"SELECT * FROM hostel_info\") \n",
    "    myresult = mycursor.fetchall()\n",
    "    return myresult[0][1]\n"
   ]
  },
  {
   "cell_type": "code",
   "execution_count": 25,
   "metadata": {},
   "outputs": [
    {
     "data": {
      "text/plain": [
       "'Demo University offers students hostels with huge facilities, You can use Swimming pools, Gym, Canteens, Grounds and free Wifi in each hostels. You can request your prefer hostel while applying hostel forms.'"
      ]
     },
     "execution_count": 25,
     "metadata": {},
     "output_type": "execute_result"
    }
   ],
   "source": [
    "hostel_info()"
   ]
  },
  {
   "cell_type": "code",
   "execution_count": 26,
   "metadata": {},
   "outputs": [],
   "source": [
    "def career_info(utterance=''):\n",
    "    if utterance == '':\n",
    "        #if utterance is empty string\n",
    "        print('utterance is empty')\n",
    "        return 'ask another utterance'\n",
    "    else:\n",
    "        #function consists one entity\n",
    "            #ent_PLA        \n",
    "        ent_COU=str()\n",
    "        ent_COU_ls=[]\n",
    "        entities = Entity_extractor(utterance)\n",
    "        \n",
    "        if len(entities)>0:\n",
    "            for i in range(0, len(entities)):\n",
    "\n",
    "                #entities needs to course_info (bio medical engineering,computer science)\n",
    "                if entities[i]['ent_data'][2]=='COU':\n",
    "                    ent_COU = entities[i]['ent_data'][0]\n",
    "                    ent_COU_ls.append(entities[i])\n",
    "                    #print(ent_COU_ls)\n",
    "                    #pint('COU entity detected')\n",
    "            if len(ent_COU_ls)==1:\n",
    "                if ent_COU == 'cbme':\n",
    "                    #db query for course info (cbme)..\n",
    "                    mycursor = mydb.cursor()\n",
    "                    mycursor.execute(\"SELECT * FROM career_info WHERE course_label ='bme'\")\n",
    "                    myresult = mycursor.fetchall()\n",
    "                    return myresult[0][1]\n",
    "\n",
    "                elif ent_COU == 'ccs':\n",
    "                    #db query for course info (ccs)..\n",
    "                    mycursor = mydb.cursor()\n",
    "                    mycursor.execute(\"SELECT * FROM career_info WHERE course_label ='ccs'\")\n",
    "                    myresult = mycursor.fetchall()                 \n",
    "                    return myresult[0][1]\n",
    "            else:\n",
    "                #two options\n",
    "                return 'options to choose'\n",
    "                \n",
    "                \n",
    "        if (ent_COU==''):\n",
    "            #no intents found\n",
    "            #two options to choose bme,cs\n",
    "            #need develop\n",
    "            return 'options to choose'"
   ]
  },
  {
   "cell_type": "code",
   "execution_count": 27,
   "metadata": {},
   "outputs": [
    {
     "data": {
      "text/plain": [
       "'If you want to combine your love for engineering with the ability to design life-saving medical products, a career in biomedical engineering may be your calling. Advances in technology and the need to care for an aging population make biomedical engineers one of the most in-demand positions in the country. Their are so many career prospects including Biomaterials Developer, Manufacturing Engineer, Independent Consultant, Doctor, Biomedical Scientist/Researcher, Rehabilitation Engineer, and Medical Technology Developer.'"
      ]
     },
     "execution_count": 27,
     "metadata": {},
     "output_type": "execute_result"
    }
   ],
   "source": [
    "career_info('bme')"
   ]
  },
  {
   "cell_type": "code",
   "execution_count": 28,
   "metadata": {},
   "outputs": [],
   "source": [
    "def event_info(utterance=''):\n",
    "    if utterance == '':\n",
    "        #if utterance is empty string\n",
    "        print('utterance is empty')\n",
    "        return 'ask another utterance'\n",
    "    else:\n",
    "        #function consists one entity\n",
    "            #ent_PLA        \n",
    "        ent_EVT=str()\n",
    "        ent_EVT_ls=[]\n",
    "        entities = Entity_extractor(utterance)\n",
    "        \n",
    "        if len(entities)>0:\n",
    "            for i in range(0, len(entities)):\n",
    "\n",
    "                #entities needs to event (robotic day, invention day)\n",
    "                if entities[i]['ent_data'][2]=='EVT':\n",
    "                    ent_EVT = entities[i]['ent_data'][0]\n",
    "                    ent_EVT_ls.append(entities[i])\n",
    "                    #print(ent_COU_ls)\n",
    "                    #pint('COU entity detected')\n",
    "            if len(ent_EVT_ls)==1:\n",
    "                if ent_EVT == 'rbd':\n",
    "                    #db query for course info (cbme)..\n",
    "                    mycursor = mydb.cursor()\n",
    "                    mycursor.execute(\"SELECT * FROM event_info WHERE event_label ='rbd'\")\n",
    "                    myresult = mycursor.fetchall()\n",
    "                    return myresult[0][1]\n",
    "\n",
    "                elif ent_EVT == 'ine':\n",
    "                    #db query for course info (ccs)..\n",
    "                    mycursor = mydb.cursor()\n",
    "                    mycursor.execute(\"SELECT * FROM event_info WHERE event_label ='ine'\")\n",
    "                    myresult = mycursor.fetchall()                 \n",
    "                    return myresult[0][1]\n",
    "            else:\n",
    "                #two options\n",
    "                return 'options to choose'\n",
    "                \n",
    "                \n",
    "        if (ent_EVT==''):\n",
    "            #no intents found\n",
    "            #two options to choose bme,cs\n",
    "            #need develop\n",
    "            return 'options to choose'\n",
    "        "
   ]
  },
  {
   "cell_type": "code",
   "execution_count": 29,
   "metadata": {},
   "outputs": [
    {
     "data": {
      "text/plain": [
       "'Invention Exhibition, the Invention & New Product Exposition, is  Largest invention trade show of Demo University. Invention Exhibition provides a forum for inventors to exhibit their inventions and attempt to make contacts with companies interested in licensing, marketing or manufacturing new products. Event will be held on 28th February at the Demo University premises.'"
      ]
     },
     "execution_count": 29,
     "metadata": {},
     "output_type": "execute_result"
    }
   ],
   "source": [
    "event_info('r invention exhibition')"
   ]
  },
  {
   "cell_type": "code",
   "execution_count": null,
   "metadata": {},
   "outputs": [],
   "source": [
    "def reg_event():\n",
    "    print('reg_event')"
   ]
  },
  {
   "cell_type": "code",
   "execution_count": 13,
   "metadata": {},
   "outputs": [],
   "source": [
    "def entry_info(utterance=''):\n",
    "    if utterance == '':\n",
    "        #if utterance is empty string\n",
    "        print('utterance is empty')\n",
    "        return 'ask another utterance'\n",
    "    else:\n",
    "        #function consists one entity\n",
    "            #ent_PLA        \n",
    "        ent_COU=str()\n",
    "        ent_COU_ls=[]\n",
    "        entities = Entity_extractor(utterance)\n",
    "        \n",
    "        if len(entities)>0:\n",
    "            for i in range(0, len(entities)):\n",
    "\n",
    "                #entities needs to entry (bio medical engineering,computer science)\n",
    "                if entities[i]['ent_data'][2]=='COU':\n",
    "                    ent_COU = entities[i]['ent_data'][0]\n",
    "                    ent_COU_ls.append(entities[i])\n",
    "                    #print(ent_COU_ls)\n",
    "                    #pint('COU entity detected')\n",
    "            if len(ent_COU_ls)==1:\n",
    "                if ent_COU == 'cbme':\n",
    "                    #db query for course info (cbme)..\n",
    "                    mycursor = mydb.cursor()\n",
    "                    mycursor.execute(\"SELECT * FROM entry_info WHERE course_label ='bme'\")\n",
    "                    myresult = mycursor.fetchall()\n",
    "                    return myresult[0][1]\n",
    "\n",
    "                elif ent_COU == 'ccs':\n",
    "                    #db query for course info (ccs)..\n",
    "                    mycursor = mydb.cursor()\n",
    "                    mycursor.execute(\"SELECT * FROM entry_info WHERE course_label ='ccs'\")\n",
    "                    myresult = mycursor.fetchall()                 \n",
    "                    return myresult[0][1]\n",
    "            else:\n",
    "                #two options\n",
    "                return 'options to choose'\n",
    "                \n",
    "                \n",
    "        if (ent_COU==''):\n",
    "            #no intents found\n",
    "            #two options to choose bme,cs\n",
    "            #need develop\n",
    "            return 'options to choose'"
   ]
  },
  {
   "cell_type": "code",
   "execution_count": null,
   "metadata": {},
   "outputs": [],
   "source": [
    "entry_info('cs')"
   ]
  },
  {
   "cell_type": "code",
   "execution_count": null,
   "metadata": {},
   "outputs": [],
   "source": [
    "def fill_hos_appl():\n",
    "    print('fill_hos_appl')"
   ]
  },
  {
   "cell_type": "code",
   "execution_count": 14,
   "metadata": {},
   "outputs": [],
   "source": [
    "#input get from the intent classification class results\n",
    "\n",
    "def Pipe_line(input_):\n",
    "    #checking for top intent based on score\n",
    "    test_value =0.05\n",
    "    funcs ={\n",
    "        'uni_info':{\n",
    "            'func':uni_info\n",
    "        },\n",
    "        'course_info':{\n",
    "            'func':course_info\n",
    "        },\n",
    "        'faculty_info':{\n",
    "            'func':faculty_info\n",
    "        },\n",
    "        'staff_info':{\n",
    "            'func':staff_info\n",
    "        },\n",
    "        'hostel_info':{\n",
    "            'func':hostel_info\n",
    "        },\n",
    "        'places_info':{\n",
    "            'func':places_info\n",
    "        },\n",
    "        'career_info':{\n",
    "            'func':career_info\n",
    "        },\n",
    "        'event_info':{\n",
    "            'func':event_info\n",
    "        },\n",
    "        'entry_info':{\n",
    "            'func':entry_info\n",
    "        },\n",
    "        'reg_event':{\n",
    "            'func':reg_event\n",
    "        },\n",
    "        'fill_hos_appl':{\n",
    "            'func':fill_hos_appl\n",
    "        }\n",
    "    }\n",
    "    \n",
    "    print(input_['values']['value_1'])\n",
    "    \n",
    "    #identify top intent with accuracy score and wheather decide pass or not\n",
    "    if((test_value <= abs(input_['values']['value_1']['value']-input_['values']['value_2']['value']))):\n",
    "        print('values is 0.05+')\n",
    "              \n",
    "        print(input_['values']['value_1']['value']-input_['values']['value_2']['value'])\n",
    "        #execute querry for top intent\n",
    "        funcs[input_['values']['value_1']['class']]['func']()\n",
    "    \n",
    "    else :\n",
    "        print('value is less than 0.05')\n",
    "        #suggesting classes for user   \n",
    "        '''print(input_['values']['value_1']['value']-input_['values']['value_2']['value'])'''\n",
    "        print(input_['values'])\n",
    "        \n",
    "    "
   ]
  },
  {
   "cell_type": "code",
   "execution_count": null,
   "metadata": {},
   "outputs": [],
   "source": [
    "Pipe_line(aa)"
   ]
  },
  {
   "cell_type": "code",
   "execution_count": 1,
   "metadata": {},
   "outputs": [],
   "source": [
    "import spacy\n",
    "from spacy.lang.en import English\n",
    "\n",
    "nlp = English()\n",
    "ruler = nlp.add_pipe(\"entity_ruler\")\n",
    "\n",
    "patterns = [{\"label\": \"FAC\", \"pattern\": [{\"LOWER\":\"engineering\"}], \"id\": \"foe\"},\n",
    "            {\"label\": \"FAC\", \"pattern\": [{\"LOWER\":\"eng\"}], \"id\": \"foe\"},\n",
    "            {\"label\": \"FAC\", \"pattern\": [{\"LOWER\":\"foe\"}], \"id\": \"foe\"},\n",
    "            {\"label\": \"FAC\", \"pattern\": [{\"LOWER\": \"computing\"}], \"id\": \"foc\"},\n",
    "            {\"label\": \"FAC\", \"pattern\": [{\"LOWER\": \"com\"}], \"id\": \"foc\"},\n",
    "            {\"label\": \"FAC\", \"pattern\": [{\"LOWER\": \"foc\"}], \"id\": \"foc\"},\n",
    "           \n",
    "            {\"label\": \"COU\", \"pattern\": [{\"LOWER\":\"computer\"},{\"LOWER\":\"science\"}], \"id\": \"ccs\"},\n",
    "            {\"label\": \"COU\", \"pattern\": [{\"LOWER\":\"computer\"},{\"LOWER\":\"sci\"}], \"id\": \"ccs\"},\n",
    "            {\"label\": \"COU\", \"pattern\": [{\"LOWER\":\"com\"},{\"LOWER\":\"sci\"}], \"id\": \"ccs\"},\n",
    "            {\"label\": \"COU\", \"pattern\": [{\"LOWER\":\"cs\"}], \"id\": \"ccs\"},\n",
    "            {\"label\": \"COU\", \"pattern\": [{\"LOWER\":\"computerscience\"}], \"id\": \"ccs\"},\n",
    "            {\"label\": \"COU\", \"pattern\": [{\"LOWER\": \"bio\"},{\"LOWER\":\"medical\"},{\"LOWER\":\"engineering\"}], \"id\": \"cbme\"},\n",
    "            {\"label\": \"COU\", \"pattern\": [{\"LOWER\": \"bme\"}], \"id\": \"cbme\"},\n",
    "            {\"label\": \"COU\", \"pattern\": [{\"LOWER\": \"b\"},{\"LOWER\":\"m\"},{\"LOWER\":\"e\"}], \"id\": \"cbme\"},\n",
    "            {\"label\": \"COU\", \"pattern\": [{\"LOWER\": \"bio\"},{\"LOWER\":\"med\"},{\"LOWER\":\"eng\"}], \"id\": \"cbme\"},\n",
    "            {\"label\": \"COU\", \"pattern\": [{\"LOWER\": \"biomedicalengineering\"}], \"id\": \"cbme\"},\n",
    "           \n",
    "            {\"label\": \"PLA\", \"pattern\": [{\"LOWER\":\"lec1\"}], \"id\": \"l1\"},\n",
    "            {\"label\": \"PLA\", \"pattern\": [{\"LOWER\":\"lec\"},{\"LOWER\":\"1\"}], \"id\": \"l1\"},\n",
    "            {\"label\": \"PLA\", \"pattern\": [{\"LOWER\":\"l1\"}], \"id\": \"l1\"},\n",
    "            {\"label\": \"PLA\", \"pattern\": [{\"LOWER\":\"lec2\"}], \"id\": \"l2\"},\n",
    "            {\"label\": \"PLA\", \"pattern\": [{\"LOWER\":\"lec\"},{\"LOWER\":\"2\"}], \"id\": \"l2\"},\n",
    "            {\"label\": \"PLA\", \"pattern\": [{\"LOWER\":\"l2\"}], \"id\": \"l2\"},\n",
    "            {\"label\": \"PLA\", \"pattern\": [{\"LOWER\": \"auditorium\"}], \"id\": \"aud\"},\n",
    "            {\"label\": \"PLA\", \"pattern\": [{\"LOWER\": \"aud\"}], \"id\": \"aud\"},\n",
    "            {\"label\": \"PLA\", \"pattern\": [{\"LOWER\": \"audi\"}], \"id\": \"aud\"},\n",
    "            {\"label\": \"PLA\", \"pattern\": [{\"LOWER\": \"ground\"}], \"id\": \"grd\"},\n",
    "            {\"label\": \"PLA\", \"pattern\": [{\"LOWER\": \"grd\"}], \"id\": \"grd\"},\n",
    "            {\"label\": \"PLA\", \"pattern\": [{\"LOWER\": \"grnd\"}], \"id\": \"grd\"},\n",
    "           \n",
    "            {\"label\": \"EVT\", \"pattern\": [{\"LOWER\":\"robotics\"},{\"LOWER\":\"day\"}], \"id\": \"rbd\"},\n",
    "            {\"label\": \"EVT\", \"pattern\": [{\"LOWER\":\"rbt\"},{\"LOWER\":\"dy\"}], \"id\": \"rbd\"},\n",
    "            {\"label\": \"EVT\", \"pattern\": [{\"LOWER\":\"invention\"},{\"LOWER\":\"exhibition\"}], \"id\": \"ine\"},\n",
    "            {\"label\": \"EVT\", \"pattern\": [{\"LOWER\":\"inv\"},{\"LOWER\":\"exh\"}], \"id\": \"ine\"},\n",
    "            {\"label\": \"EVT\", \"pattern\": [{\"LOWER\":\"inven\"},{\"LOWER\":\"exh\"}], \"id\": \"ine\"},\n",
    "            {\"label\": \"EVT\", \"pattern\": [{\"LOWER\":\"inv\"},{\"LOWER\":\"exhibition\"}], \"id\": \"ine\"},\n",
    "            {\"label\": \"EVT\", \"pattern\": [{\"LOWER\":\"inventionexhibition\"}], \"id\": \"ine\"},\n",
    "            \n",
    "            {\"label\": \"SPT\", \"pattern\": [{\"LOWER\":\"cricket\"}], \"id\": \"cri\"},\n",
    "            {\"label\": \"SPT\", \"pattern\": [{\"LOWER\":\"cri\"}], \"id\": \"cri\"},\n",
    "            {\"label\": \"SPT\", \"pattern\": [{\"LOWER\":\"karate\"}], \"id\": \"krt\"},\n",
    "            {\"label\": \"SPT\", \"pattern\": [{\"LOWER\":\"karathe\"}], \"id\": \"krt\"},\n",
    "            \n",
    "            \n",
    "            {\"label\": \"PSL\", \"pattern\": [{\"TEXT\" : {\"REGEX\": \"(?:S[0-9]..)\"}}], \"id\": \"rg\"},\n",
    "            {\"label\": \"PSL\", \"pattern\": [{\"TEXT\" : {\"REGEX\": \"(?:s[0-9]..)\"}}], \"id\": \"rg\"},\n",
    "            {\"label\": \"PSL\", \"pattern\": [{\"ORTH\":\"S\"},{\"SHAPE\":\"ddd\"}], \"id\": \"rg\"},\n",
    "            {\"label\": \"PSL\", \"pattern\": [{\"ORTH\":\"s\"},{\"SHAPE\":\"ddd\"}], \"id\": \"rg\"},\n",
    "\n",
    "\n",
    "\n",
    "           ]\n",
    "\n",
    "ruler.add_patterns(patterns)"
   ]
  },
  {
   "cell_type": "code",
   "execution_count": 2,
   "metadata": {},
   "outputs": [
    {
     "data": {
      "text/plain": [
       "\"\\nreturn type  dict\\n\\n{0: {'ent_id': 0, 'ent_data': ('l1', 'lec1', 'PLA')},\\n 1: {'ent_id': 1, 'ent_data': ('grd', 'ground', 'PLA')},\\n .\\n .\\n .}\\n\""
      ]
     },
     "execution_count": 2,
     "metadata": {},
     "output_type": "execute_result"
    }
   ],
   "source": [
    "def Entity_extractor(doc_text):\n",
    "    doc = nlp(doc_text)\n",
    "    ent_dict={}\n",
    "    for i in range(0,len(doc.ents)):\n",
    "        #print(i)\n",
    "        #print((doc.ents[i].ent_id_, doc.ents[i].text, doc.ents[i].label_))\n",
    "        ent_dict[i] = {'ent_id':i,\n",
    "               'ent_data':(doc.ents[i].ent_id_, doc.ents[i].text, doc.ents[i].label_)\n",
    "               }\n",
    "    #print([(ent.text, ent, ent.ent_id_) for ent in doc.ents])\n",
    "    #print(doc.ents[0].ent_id_)\n",
    "    #print(ent_dict)\n",
    "    return ent_dict\n",
    "    \n",
    "    #print(doc.ents)\n",
    "'''\n",
    "return type  dict\n",
    "\n",
    "{0: {'ent_id': 0, 'ent_data': ('l1', 'lec1', 'PLA')},\n",
    " 1: {'ent_id': 1, 'ent_data': ('grd', 'ground', 'PLA')},\n",
    " .\n",
    " .\n",
    " .}\n",
    "'''\n"
   ]
  },
  {
   "cell_type": "code",
   "execution_count": 3,
   "metadata": {},
   "outputs": [
    {
     "data": {
      "text/plain": [
       "{0: {'ent_id': 0, 'ent_data': ('l1', 'lec1', 'PLA')},\n",
       " 1: {'ent_id': 1, 'ent_data': ('grd', 'ground', 'PLA')},\n",
       " 2: {'ent_id': 2, 'ent_data': ('rg', 's111', 'PSL')}}"
      ]
     },
     "execution_count": 3,
     "metadata": {},
     "output_type": "execute_result"
    }
   ],
   "source": [
    "Entity_extractor('How can i go to lec1 ground s111')"
   ]
  },
  {
   "cell_type": "code",
   "execution_count": 4,
   "metadata": {},
   "outputs": [],
   "source": [
    "import mysql"
   ]
  },
  {
   "cell_type": "code",
   "execution_count": 5,
   "metadata": {},
   "outputs": [
    {
     "name": "stdout",
     "output_type": "stream",
     "text": [
      "<mysql.connector.connection_cext.CMySQLConnection object at 0x7fe515b8e6d0>\n"
     ]
    }
   ],
   "source": [
    "import mysql.connector\n",
    "\n",
    "mydb = mysql.connector.connect(\n",
    "  host=\"localhost\",\n",
    "  user=\"userthut\",\n",
    "  password=\"thut\",\n",
    "    database =\"botbreezy\"\n",
    ")\n",
    "\n",
    "print(mydb) "
   ]
  },
  {
   "cell_type": "code",
   "execution_count": 6,
   "metadata": {
    "scrolled": true
   },
   "outputs": [
    {
     "name": "stdout",
     "output_type": "stream",
     "text": [
      "[('bme', 'Biomedical engineering program comprises study about tissue engineering, molecular or systems level biology/ physiology and mathematics.')]\n"
     ]
    },
    {
     "data": {
      "text/plain": [
       "'\\nfor x in myresult:\\n    print(x[1]) '"
      ]
     },
     "execution_count": 6,
     "metadata": {},
     "output_type": "execute_result"
    }
   ],
   "source": [
    "mycursor = mydb.cursor()\n",
    "\n",
    "mycursor.execute(\"SELECT * FROM course_info WHERE course_name ='bme'\")\n",
    "\n",
    "myresult = mycursor.fetchall()\n",
    "\n",
    "print(myresult)\n",
    "'''\n",
    "for x in myresult:\n",
    "    print(x[1]) '''"
   ]
  },
  {
   "cell_type": "code",
   "execution_count": 81,
   "metadata": {},
   "outputs": [],
   "source": [
    "session={}\n",
    "session['ses_validate']={\n",
    "\t\t'uncertainty':None,\n",
    "\t\t'func':'reg_event',\n",
    "\t\t'entities':None,\n",
    "\t\t'understand':3,\n",
    "\t\t'func_available':True}\n",
    "def reg_event(utterance,mycursor):\n",
    "\t\n",
    "\t#updating session \n",
    "\t#function consists one entity EVT\n",
    "    if session['ses_validate']['entities']==None:\n",
    "        print('begining reg event',session['ses_validate'])\n",
    "        session['ses_validate']['entities']={\n",
    "            'EVT':None,'PSL':None\n",
    "            }\n",
    "        print(\"after 1 update\",session['ses_validate'])\n",
    "        print('PSL',session['ses_validate']['entities']['PSL']==None)\n",
    "    #session['ses_validate']['entities']={'EVT':None}\n",
    "    #print('..................',session['ses_validate'])\n",
    "\t\n",
    "\t#ent_PLA        \n",
    "    ent_EVT=str()\n",
    "    ent_EVT_ls=[]\n",
    "    ent_PSL=str()\n",
    "    ent_PSL_ls=[]\n",
    "    entities = Entity_extractor(utterance)\n",
    "    \n",
    "    if session['ses_validate']['entities']['EVT']==None:\n",
    "      #print('getting to the evt')\n",
    "      if len(entities)>0:\n",
    "          for i in range(0, len(entities)):\n",
    "            #print('getting to for loop')\n",
    "\n",
    "                #entities needs to reg_event:events (robotic day, invention day)\n",
    "            if entities[i]['ent_data'][2]=='EVT':\n",
    "              ent_EVT = entities[i]['ent_data'][0]\n",
    "              ent_EVT_ls.append(entities[i])\n",
    "\n",
    "              #print(ent_EVT_ls)\n",
    "              print('EVT entity detected')\n",
    "          if len(ent_EVT_ls)==1:\n",
    "                if ent_EVT == 'rbd':\n",
    "                    #session update for entity\n",
    "                    session['ses_validate']['entities']['EVT']='rbd'\n",
    "                    \n",
    "                   \n",
    "                elif ent_EVT == 'ine':\n",
    "                    #session update for entity\n",
    "                    session['ses_validate']['entities']['EVT']='ine'\n",
    "\n",
    "                    \n",
    "          else:\n",
    "                response = {'fun_res':{\n",
    "                        'is_completed':False,\n",
    "                        'content':'Tell me, which event do you like to register ?',\n",
    "                        'is_option':False,\n",
    "                        'is_entity':True,\n",
    "                        'options':None,\n",
    "                        'entities':['Robotics Day','Invention Exhibition']}}\n",
    "                #return to choose intent\n",
    "                session['ses_validate']['understand']-=1\n",
    "                return response\n",
    "            \n",
    "    if session['ses_validate']['entities']['PSL']==None:\n",
    "        if len(entities)>0:\n",
    "            for i in range(0, len(entities)):\n",
    "\n",
    "                #entities needs to reg_event:reg num (S***)\n",
    "                if entities[i]['ent_data'][2]=='PSL':\n",
    "                    ent_PSL = entities[i]['ent_data'][0]\n",
    "                    ent_PSL_ls.append(ent_PSL)\n",
    "\n",
    "                    #print(ent_EVT_ls)\n",
    "                    #pint('EVT entity detected')\n",
    "            if len(ent_PSL_ls)==1:\n",
    "                if ent_PSL == 'rg':\n",
    "                    #session update for entity\n",
    "                    session['ses_validate']['entities']['PSL']=entities[i]['ent_data'][1]\n",
    "            else:\n",
    "                response = {'fun_res':{\n",
    "                        'is_completed':False,\n",
    "                        'content':'Tell me your student registration number ?',\n",
    "                        'is_option':False,\n",
    "                        'is_entity':True,\n",
    "                        'options':None,\n",
    "                        'entities':None}}\n",
    "                #return to choose intent\n",
    "                session['ses_validate']['understand']-=1\n",
    "                return response\n",
    "        \n",
    "    if session['ses_validate']['entities']['PSL'] !=None and session['ses_validate']['entities']['EVT']!=None:\n",
    "        \n",
    "        #checking the registered evt\n",
    "        if session['ses_validate']['entities']['EVT']!='ine':\n",
    "        #function success\n",
    "        \n",
    "            #db query\n",
    "\n",
    "            #API calling\n",
    "\n",
    "            #generating and return response with successs status\n",
    "            response = {'fun_res':{\n",
    "                        'is_completed':True,\n",
    "                        'content':'Okay.. Successfully registered'+session['ses_validate']['entities']['PSL']+'to Invention Exhibition',\n",
    "                        'is_option':False,\n",
    "                        'is_entity':False,\n",
    "                        'options':None,\n",
    "                        'entities':['EVT','PLA']}}\n",
    "            return response\n",
    "        \n",
    "        elif session['ses_validate']['entities']['EVT']!='rbd':\n",
    "            #function success\n",
    "        \n",
    "            #db query\n",
    "\n",
    "            #API calling\n",
    "\n",
    "            #generating and return response with successs status\n",
    "            response = {'fun_res':{\n",
    "                        'is_completed':True,\n",
    "                        'content':'Okay.. Successfully registered'+session['ses_validate']['entities']['PSL']+'to Robotics Day',\n",
    "                        'is_option':False,\n",
    "                        'is_entity':False,\n",
    "                        'options':None,\n",
    "                        'entities':['EVT','PLA']}}\n",
    "            return response\n",
    "        else:\n",
    "            print('Error occured event_reg')\n",
    "    if (ent_EVT==''):\n",
    "\t\t#no entity found\n",
    "\t\t#return to choose intent\n",
    "        response = {'fun_res':{\n",
    "\t\t\t\t\t'is_completed':False,\n",
    "\t\t\t\t\t'content':'Tell me, which event do you like to register ?',\n",
    "\t\t\t\t\t'is_option':False,\n",
    "\t\t\t\t\t'is_entity':True,\n",
    "\t\t\t\t\t'options':None,\n",
    "\t\t\t\t\t'entities':['Robotics Day','Invention Exhibition']}}\n",
    "\t\t#two options\n",
    "        session['ses_validate']['understand']-=1\n",
    "        print(session['ses_validate']['understand'])\n",
    "        return response\n",
    "\t\t\n",
    "\t\t \n"
   ]
  },
  {
   "cell_type": "code",
   "execution_count": 82,
   "metadata": {},
   "outputs": [
    {
     "name": "stdout",
     "output_type": "stream",
     "text": [
      "begining reg event {'uncertainty': None, 'func': 'reg_event', 'entities': None, 'understand': 3, 'func_available': True}\n",
      "after 1 update {'uncertainty': None, 'func': 'reg_event', 'entities': {'EVT': None, 'PSL': None}, 'understand': 3, 'func_available': True}\n",
      "PSL True\n"
     ]
    },
    {
     "data": {
      "text/plain": [
       "{'fun_res': {'is_completed': False,\n",
       "  'content': 'Tell me, which event do you like to register ?',\n",
       "  'is_option': False,\n",
       "  'is_entity': True,\n",
       "  'options': None,\n",
       "  'entities': ['Robotics Day', 'Invention Exhibition']}}"
      ]
     },
     "execution_count": 82,
     "metadata": {},
     "output_type": "execute_result"
    }
   ],
   "source": [
    "reg_event('s 111',mycursor)"
   ]
  },
  {
   "cell_type": "code",
   "execution_count": 73,
   "metadata": {},
   "outputs": [
    {
     "name": "stdout",
     "output_type": "stream",
     "text": [
      "1\n",
      "as\n"
     ]
    }
   ],
   "source": [
    "if reg_event('hi',mycursor)['fun_res']['is_completed']==False:\n",
    "    print(\"as\")"
   ]
  },
  {
   "cell_type": "code",
   "execution_count": 78,
   "metadata": {},
   "outputs": [
    {
     "name": "stdout",
     "output_type": "stream",
     "text": [
      "-1\n"
     ]
    },
    {
     "data": {
      "text/plain": [
       "False"
      ]
     },
     "execution_count": 78,
     "metadata": {},
     "output_type": "execute_result"
    }
   ],
   "source": [
    "reg_event('hi ine',mycursor)['fun_res']['is_completed']"
   ]
  },
  {
   "cell_type": "code",
   "execution_count": null,
   "metadata": {},
   "outputs": [],
   "source": []
  }
 ],
 "metadata": {
  "kernelspec": {
   "display_name": "Python 3",
   "language": "python",
   "name": "python3"
  },
  "language_info": {
   "codemirror_mode": {
    "name": "ipython",
    "version": 3
   },
   "file_extension": ".py",
   "mimetype": "text/x-python",
   "name": "python",
   "nbconvert_exporter": "python",
   "pygments_lexer": "ipython3",
   "version": "3.8.5"
  }
 },
 "nbformat": 4,
 "nbformat_minor": 4
}
